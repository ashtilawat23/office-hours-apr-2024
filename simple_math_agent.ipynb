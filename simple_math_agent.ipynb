{
  "nbformat": 4,
  "nbformat_minor": 0,
  "metadata": {
    "colab": {
      "provenance": [],
      "authorship_tag": "ABX9TyPscftgsiP/cuExiKCl55lH"
    },
    "kernelspec": {
      "name": "python3",
      "display_name": "Python 3"
    },
    "language_info": {
      "name": "python"
    }
  },
  "cells": [
    {
      "cell_type": "markdown",
      "source": [
        "# **AI For Developer Productivity Office Hours 4/23/24**"
      ],
      "metadata": {
        "id": "6MigP-QWwkD1"
      }
    },
    {
      "cell_type": "markdown",
      "source": [
        "**LangChain Agent Overview:**\n",
        "  - LangChain agents are designed to mimic intelligent entities that perceive their environment, make decisions to achieve specific goals, and learn over time. These agents primarily use Large Language Models (LLMs) to reason and determine the best approaches to fulfill user requests.\n",
        "  \n",
        "**Functionality and Tools:**\n",
        "  - To interact with and operate within their environment, LangChain agents use a set of tools called \"Tools.\" These tools are essentially methods or classes that allow the agent to perform actions like querying a database, updating a calendar event, or interacting with a stock market index through an API.\n",
        "\n",
        "**Toolkits:**\n",
        "  - A Toolkit in LangChain is a collection of various Tools that an agent can access to execute tasks. These toolkits are structured as arrays containing the tools available for the agent's use, facilitating the agent's interaction with its environment and task execution."
      ],
      "metadata": {
        "id": "O43PDkxOhCRT"
      }
    },
    {
      "cell_type": "markdown",
      "source": [
        "# Today's lesson aims to:\n",
        "\n",
        "1. Develop a basic agent that can perform mathematical calculations faster than a typical Large Language Model (LLM).\n",
        "2. Demonstrate how to create and implement tools that enhance the agent's capabilities.\n",
        "3. Illustrate the use of a toolkit to effectively employ these tools in practical scenarios."
      ],
      "metadata": {
        "id": "8PrleDpJiCVF"
      }
    },
    {
      "cell_type": "markdown",
      "source": [
        "Import packages"
      ],
      "metadata": {
        "id": "JSbob5xyiPSy"
      }
    },
    {
      "cell_type": "code",
      "source": [
        "%pip install langchain"
      ],
      "metadata": {
        "id": "tKoHvBP1mEIx"
      },
      "execution_count": null,
      "outputs": []
    },
    {
      "cell_type": "code",
      "source": [
        "%pip install langchain_openai"
      ],
      "metadata": {
        "id": "p3jhWvCsmr4j"
      },
      "execution_count": null,
      "outputs": []
    },
    {
      "cell_type": "code",
      "source": [
        "%pip install matplotlib numpy"
      ],
      "metadata": {
        "id": "cmyTRtOLpHE4"
      },
      "execution_count": null,
      "outputs": []
    },
    {
      "cell_type": "code",
      "source": [
        "import os\n",
        "\n",
        "from langchain.agents import AgentExecutor, create_openai_tools_agent\n",
        "from langchain_openai import ChatOpenAI\n",
        "\n",
        "from langchain.tools import BaseTool, StructuredTool, tool\n",
        "from langchain_core.prompts import ChatPromptTemplate, MessagesPlaceholder"
      ],
      "metadata": {
        "id": "8wWeAq53iG1S"
      },
      "execution_count": null,
      "outputs": []
    },
    {
      "cell_type": "markdown",
      "source": [
        "Set OpenAI API Key"
      ],
      "metadata": {
        "id": "6_tGoK_viZzn"
      }
    },
    {
      "cell_type": "code",
      "source": [
        "# Make sure to update this with your OpenAI API Key\n",
        "os.environ[\"OPENAI_API_KEY\"] = \"sk-\""
      ],
      "metadata": {
        "id": "VUMOS7QhiWpr"
      },
      "execution_count": null,
      "outputs": []
    },
    {
      "cell_type": "markdown",
      "source": [
        "Imports for tooling"
      ],
      "metadata": {
        "id": "KLpffHeHwvtl"
      }
    },
    {
      "cell_type": "code",
      "source": [
        "import matplotlib.pyplot as plt\n",
        "import numpy as np"
      ],
      "metadata": {
        "id": "HeUdEdAcpF13"
      },
      "execution_count": null,
      "outputs": []
    },
    {
      "cell_type": "markdown",
      "source": [
        "Create tools"
      ],
      "metadata": {
        "id": "P25uLz41wzsH"
      }
    },
    {
      "cell_type": "code",
      "source": [
        "@tool\n",
        "def add(a: int, b: int) -> int:\n",
        "    \"\"\"Add two numbers.\"\"\"\n",
        "    return a + b\n",
        "\n",
        "\n",
        "@tool\n",
        "def multiply(a: int, b: int) -> int:\n",
        "    \"\"\"Multiply two numbers.\"\"\"\n",
        "    return a * b\n",
        "\n",
        "\n",
        "@tool\n",
        "def square(a) -> int:\n",
        "    \"\"\"Calculates the square of a number.\"\"\"\n",
        "    a = int(a)\n",
        "    return a * a\n",
        "\n",
        "@tool\n",
        "def findAreaOfCircle(r: int) -> float:\n",
        "  \"\"\"Find the area of a circle using it's radius\"\"\"\n",
        "  a = 3.14 * r ** 2\n",
        "  return a\n",
        "\n",
        "@tool\n",
        "def display_circle(radius: int):\n",
        "    \"\"\"\n",
        "    Displays a circle with the given radius using matplotlib.\n",
        "\n",
        "    Args:\n",
        "        radius (int): The radius of the circle to display.\n",
        "    \"\"\"\n",
        "    # Create a figure and axis\n",
        "    fig, ax = plt.subplots()\n",
        "\n",
        "    # Create a circle using the given radius\n",
        "    circle = plt.Circle((0, 0), radius, fill=False, color='r', linewidth=2)\n",
        "\n",
        "    # Add the circle to the axis\n",
        "    ax.add_artist(circle)\n",
        "\n",
        "    # Set the aspect ratio to be equal\n",
        "    ax.set_aspect('equal')\n",
        "\n",
        "    # Set the axis limits to show the entire circle\n",
        "    ax.set_xlim((-radius - 1, radius + 1))\n",
        "    ax.set_ylim((-radius - 1, radius + 1))\n",
        "\n",
        "    # Remove the axis ticks and labels\n",
        "    ax.set_xticks([])\n",
        "    ax.set_yticks([])\n",
        "\n",
        "    # Display the circle\n",
        "    plt.show()"
      ],
      "metadata": {
        "id": "vvJGwzN9idS0"
      },
      "execution_count": null,
      "outputs": []
    },
    {
      "cell_type": "markdown",
      "source": [
        "Create prompt"
      ],
      "metadata": {
        "id": "2HzZp_Kyw2_3"
      }
    },
    {
      "cell_type": "code",
      "source": [
        "prompt = ChatPromptTemplate.from_messages(\n",
        "    [\n",
        "        (\"system\", \"\"\"You are a mathematical assistant. Use your tools to answer questions.\n",
        "         If you do not have a tool to answer the question, say so.\n",
        "\n",
        "        Return only the answers. e.g\n",
        "        Human: What is 1 + 1?\n",
        "        AI: 2\n",
        "        \"\"\"),\n",
        "        MessagesPlaceholder(\"chat_history\", optional=True),\n",
        "        (\"human\", \"{input}\"),\n",
        "        MessagesPlaceholder(\"agent_scratchpad\"),\n",
        "    ]\n",
        ")"
      ],
      "metadata": {
        "id": "8Mj1zY_1ihBx"
      },
      "execution_count": null,
      "outputs": []
    },
    {
      "cell_type": "markdown",
      "source": [
        "Creat agent and execute"
      ],
      "metadata": {
        "id": "2xyGLf4Tw40k"
      }
    },
    {
      "cell_type": "code",
      "source": [
        "# Choose the LLM that will drive the agent\n",
        "llm = ChatOpenAI(model=\"gpt-3.5-turbo\", temperature=0)\n",
        "\n",
        "# Setup the toolkit\n",
        "toolkit = [add, multiply, square, display_circle, findAreaOfCircle]\n",
        "\n",
        "# Construct the OpenAI Tools agent\n",
        "agent = create_openai_tools_agent(llm, toolkit, prompt)\n",
        "\n",
        "# Create an agent executor by passing in the agent and toolkit\n",
        "agent_executor = AgentExecutor(agent=agent, tools=toolkit, verbose=True)"
      ],
      "metadata": {
        "id": "6FH9_GhSijkp"
      },
      "execution_count": null,
      "outputs": []
    },
    {
      "cell_type": "markdown",
      "source": [
        "Give prompt"
      ],
      "metadata": {
        "id": "galr7o03w7e7"
      }
    },
    {
      "cell_type": "code",
      "source": [
        "result = agent_executor.invoke({\"input\": \"Display a circle radius of 7.\"})\n",
        "print(result['output'])"
      ],
      "metadata": {
        "colab": {
          "base_uri": "https://localhost:8080/",
          "height": 602
        },
        "id": "rBdn03bXimJS",
        "outputId": "888080e9-9f2c-476a-b33f-2fcd2ed29e35"
      },
      "execution_count": null,
      "outputs": [
        {
          "output_type": "stream",
          "name": "stdout",
          "text": [
            "\n",
            "\n",
            "\u001b[1m> Entering new AgentExecutor chain...\u001b[0m\n",
            "\u001b[32;1m\u001b[1;3m\n",
            "Invoking: `display_circle` with `{'radius': 7}`\n",
            "\n",
            "\n",
            "\u001b[0m"
          ]
        },
        {
          "output_type": "display_data",
          "data": {
            "text/plain": [
              "<Figure size 640x480 with 1 Axes>"
            ],
            "image/png": "[encoded data removed]"
          },
          "metadata": {}
        },
        {
          "output_type": "stream",
          "name": "stdout",
          "text": [
            "\u001b[36;1m\u001b[1;3mNone\u001b[0m\u001b[32;1m\u001b[1;3mI have displayed a circle with a radius of 7.\u001b[0m\n",
            "\n",
            "\u001b[1m> Finished chain.\u001b[0m\n",
            "I have displayed a circle with a radius of 7.\n"
          ]
        }
      ]
    }
  ]
}